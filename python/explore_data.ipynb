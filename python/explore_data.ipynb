{
 "cells": [
  {
   "cell_type": "markdown",
   "metadata": {},
   "source": [
    "# 丁香园新冠数据分析\n",
    "\n",
    "丁香园实时网站：https://ncov.dxy.cn/ncovh5/view/pneumonia"
   ]
  },
  {
   "cell_type": "code",
   "execution_count": 1,
   "metadata": {},
   "outputs": [],
   "source": [
    "import pandas as pd\n",
    "import matplotlib.font_manager as mfm\n",
    "import matplotlib.pyplot as plt\n",
    "font_path = './STFANGSO.TTF'\n",
    "font_prop = mfm.FontProperties(fname=font_path)"
   ]
  },
  {
   "cell_type": "code",
   "execution_count": 2,
   "metadata": {},
   "outputs": [],
   "source": [
    "data = pd.read_csv('../DXYArea.csv')\n",
    "data['updateTime'] = pd.to_datetime(data['updateTime'])  # original type of updateTime after read_csv is 'str'\n",
    "data['updateDate'] = data['updateTime'].dt.date    # add date for daily aggregation"
   ]
  },
  {
   "cell_type": "code",
   "execution_count": 3,
   "metadata": {},
   "outputs": [
    {
     "name": "stdout",
     "output_type": "stream",
     "text": [
      "Last Update:  2020-02-04 13:28:05.653000\n",
      "Date Range:  2020-01-24 to 2020-02-04\n",
      "Total rows:  15192\n"
     ]
    }
   ],
   "source": [
    "print('Last Update: ', data['updateTime'].max())\n",
    "print('Date Range: ', data['updateDate'].min(), 'to', data['updateDate'].max())\n",
    "print('Total rows: ', data.shape[0])"
   ]
  },
  {
   "cell_type": "code",
   "execution_count": 4,
   "metadata": {},
   "outputs": [
    {
     "data": {
      "text/html": [
       "<div>\n",
       "<style scoped>\n",
       "    .dataframe tbody tr th:only-of-type {\n",
       "        vertical-align: middle;\n",
       "    }\n",
       "\n",
       "    .dataframe tbody tr th {\n",
       "        vertical-align: top;\n",
       "    }\n",
       "\n",
       "    .dataframe thead th {\n",
       "        text-align: right;\n",
       "    }\n",
       "</style>\n",
       "<table border=\"1\" class=\"dataframe\">\n",
       "  <thead>\n",
       "    <tr style=\"text-align: right;\">\n",
       "      <th></th>\n",
       "      <th>provinceName</th>\n",
       "      <th>cityName</th>\n",
       "      <th>province_confirmedCount</th>\n",
       "      <th>province_suspectedCount</th>\n",
       "      <th>province_curedCount</th>\n",
       "      <th>province_deadCount</th>\n",
       "      <th>city_confirmedCount</th>\n",
       "      <th>city_suspectedCount</th>\n",
       "      <th>city_curedCount</th>\n",
       "      <th>city_deadCount</th>\n",
       "      <th>updateTime</th>\n",
       "      <th>updateDate</th>\n",
       "    </tr>\n",
       "  </thead>\n",
       "  <tbody>\n",
       "    <tr>\n",
       "      <th>0</th>\n",
       "      <td>安徽省</td>\n",
       "      <td>合肥</td>\n",
       "      <td>480</td>\n",
       "      <td>0</td>\n",
       "      <td>20</td>\n",
       "      <td>0</td>\n",
       "      <td>81</td>\n",
       "      <td>0</td>\n",
       "      <td>5</td>\n",
       "      <td>0</td>\n",
       "      <td>2020-02-04 13:28:05.653</td>\n",
       "      <td>2020-02-04</td>\n",
       "    </tr>\n",
       "    <tr>\n",
       "      <th>1</th>\n",
       "      <td>安徽省</td>\n",
       "      <td>阜阳</td>\n",
       "      <td>480</td>\n",
       "      <td>0</td>\n",
       "      <td>20</td>\n",
       "      <td>0</td>\n",
       "      <td>79</td>\n",
       "      <td>0</td>\n",
       "      <td>3</td>\n",
       "      <td>0</td>\n",
       "      <td>2020-02-04 13:28:05.653</td>\n",
       "      <td>2020-02-04</td>\n",
       "    </tr>\n",
       "    <tr>\n",
       "      <th>2</th>\n",
       "      <td>安徽省</td>\n",
       "      <td>安庆</td>\n",
       "      <td>480</td>\n",
       "      <td>0</td>\n",
       "      <td>20</td>\n",
       "      <td>0</td>\n",
       "      <td>55</td>\n",
       "      <td>0</td>\n",
       "      <td>3</td>\n",
       "      <td>0</td>\n",
       "      <td>2020-02-04 13:28:05.653</td>\n",
       "      <td>2020-02-04</td>\n",
       "    </tr>\n",
       "    <tr>\n",
       "      <th>3</th>\n",
       "      <td>安徽省</td>\n",
       "      <td>亳州</td>\n",
       "      <td>480</td>\n",
       "      <td>0</td>\n",
       "      <td>20</td>\n",
       "      <td>0</td>\n",
       "      <td>48</td>\n",
       "      <td>0</td>\n",
       "      <td>2</td>\n",
       "      <td>0</td>\n",
       "      <td>2020-02-04 13:28:05.653</td>\n",
       "      <td>2020-02-04</td>\n",
       "    </tr>\n",
       "    <tr>\n",
       "      <th>4</th>\n",
       "      <td>安徽省</td>\n",
       "      <td>蚌埠</td>\n",
       "      <td>480</td>\n",
       "      <td>0</td>\n",
       "      <td>20</td>\n",
       "      <td>0</td>\n",
       "      <td>43</td>\n",
       "      <td>0</td>\n",
       "      <td>0</td>\n",
       "      <td>0</td>\n",
       "      <td>2020-02-04 13:28:05.653</td>\n",
       "      <td>2020-02-04</td>\n",
       "    </tr>\n",
       "  </tbody>\n",
       "</table>\n",
       "</div>"
      ],
      "text/plain": [
       "  provinceName cityName  province_confirmedCount  province_suspectedCount  \\\n",
       "0          安徽省       合肥                      480                        0   \n",
       "1          安徽省       阜阳                      480                        0   \n",
       "2          安徽省       安庆                      480                        0   \n",
       "3          安徽省       亳州                      480                        0   \n",
       "4          安徽省       蚌埠                      480                        0   \n",
       "\n",
       "   province_curedCount  province_deadCount  city_confirmedCount  \\\n",
       "0                   20                   0                   81   \n",
       "1                   20                   0                   79   \n",
       "2                   20                   0                   55   \n",
       "3                   20                   0                   48   \n",
       "4                   20                   0                   43   \n",
       "\n",
       "   city_suspectedCount  city_curedCount  city_deadCount  \\\n",
       "0                    0                5               0   \n",
       "1                    0                3               0   \n",
       "2                    0                3               0   \n",
       "3                    0                2               0   \n",
       "4                    0                0               0   \n",
       "\n",
       "               updateTime  updateDate  \n",
       "0 2020-02-04 13:28:05.653  2020-02-04  \n",
       "1 2020-02-04 13:28:05.653  2020-02-04  \n",
       "2 2020-02-04 13:28:05.653  2020-02-04  \n",
       "3 2020-02-04 13:28:05.653  2020-02-04  \n",
       "4 2020-02-04 13:28:05.653  2020-02-04  "
      ]
     },
     "execution_count": 4,
     "metadata": {},
     "output_type": "execute_result"
    }
   ],
   "source": [
    "data.head()"
   ]
  },
  {
   "cell_type": "markdown",
   "metadata": {},
   "source": [
    "## 把实时数据整合成每日数据"
   ]
  },
  {
   "cell_type": "code",
   "execution_count": 5,
   "metadata": {},
   "outputs": [],
   "source": [
    "def aggDaily(df):\n",
    "    frm_list = []\n",
    "    drop_cols = ['province_' + field for field in ['confirmedCount', 'suspectedCount', 'curedCount', 'deadCount']]  # these can be computed later\n",
    "    for key, frm in df.drop(columns=drop_cols).sort_values(['updateDate']).groupby(['cityName', 'updateDate']):\n",
    "        frm_list.append(frm.sort_values(['updateTime'])[-1:])    # take the lastest row within (city, date)\n",
    "    out = pd.concat(frm_list).sort_values(['updateDate', 'provinceName', 'cityName'])\n",
    "    to_names = [field for field in ['confirmed', 'suspected', 'cured', 'dead']]\n",
    "    out = out.rename(columns=dict([('city_' + d + 'Count', d) for d in to_names]))\n",
    "    return out"
   ]
  },
  {
   "cell_type": "code",
   "execution_count": 6,
   "metadata": {},
   "outputs": [],
   "source": [
    "daily_frm = aggDaily(data)"
   ]
  },
  {
   "cell_type": "code",
   "execution_count": 7,
   "metadata": {},
   "outputs": [
    {
     "data": {
      "text/html": [
       "<div>\n",
       "<style scoped>\n",
       "    .dataframe tbody tr th:only-of-type {\n",
       "        vertical-align: middle;\n",
       "    }\n",
       "\n",
       "    .dataframe tbody tr th {\n",
       "        vertical-align: top;\n",
       "    }\n",
       "\n",
       "    .dataframe thead th {\n",
       "        text-align: right;\n",
       "    }\n",
       "</style>\n",
       "<table border=\"1\" class=\"dataframe\">\n",
       "  <thead>\n",
       "    <tr style=\"text-align: right;\">\n",
       "      <th></th>\n",
       "      <th>provinceName</th>\n",
       "      <th>cityName</th>\n",
       "      <th>confirmed</th>\n",
       "      <th>suspected</th>\n",
       "      <th>cured</th>\n",
       "      <th>dead</th>\n",
       "      <th>updateTime</th>\n",
       "      <th>updateDate</th>\n",
       "    </tr>\n",
       "  </thead>\n",
       "  <tbody>\n",
       "    <tr>\n",
       "      <th>14202</th>\n",
       "      <td>云南省</td>\n",
       "      <td>丽江市</td>\n",
       "      <td>1</td>\n",
       "      <td>0</td>\n",
       "      <td>0</td>\n",
       "      <td>0</td>\n",
       "      <td>2020-01-24 23:55:14.973</td>\n",
       "      <td>2020-01-24</td>\n",
       "    </tr>\n",
       "    <tr>\n",
       "      <th>14200</th>\n",
       "      <td>云南省</td>\n",
       "      <td>昆明</td>\n",
       "      <td>3</td>\n",
       "      <td>0</td>\n",
       "      <td>0</td>\n",
       "      <td>0</td>\n",
       "      <td>2020-01-24 23:55:14.973</td>\n",
       "      <td>2020-01-24</td>\n",
       "    </tr>\n",
       "    <tr>\n",
       "      <th>14201</th>\n",
       "      <td>云南省</td>\n",
       "      <td>西双版纳州</td>\n",
       "      <td>1</td>\n",
       "      <td>0</td>\n",
       "      <td>0</td>\n",
       "      <td>0</td>\n",
       "      <td>2020-01-24 23:55:14.973</td>\n",
       "      <td>2020-01-24</td>\n",
       "    </tr>\n",
       "    <tr>\n",
       "      <th>14546</th>\n",
       "      <td>内蒙古自治区</td>\n",
       "      <td>满洲里</td>\n",
       "      <td>1</td>\n",
       "      <td>0</td>\n",
       "      <td>0</td>\n",
       "      <td>0</td>\n",
       "      <td>2020-01-24 13:04:21.168</td>\n",
       "      <td>2020-01-24</td>\n",
       "    </tr>\n",
       "    <tr>\n",
       "      <th>15074</th>\n",
       "      <td>北京市</td>\n",
       "      <td>不明地区</td>\n",
       "      <td>8</td>\n",
       "      <td>0</td>\n",
       "      <td>0</td>\n",
       "      <td>0</td>\n",
       "      <td>2020-01-24 07:37:33.464</td>\n",
       "      <td>2020-01-24</td>\n",
       "    </tr>\n",
       "    <tr>\n",
       "      <th>...</th>\n",
       "      <td>...</td>\n",
       "      <td>...</td>\n",
       "      <td>...</td>\n",
       "      <td>...</td>\n",
       "      <td>...</td>\n",
       "      <td>...</td>\n",
       "      <td>...</td>\n",
       "      <td>...</td>\n",
       "    </tr>\n",
       "    <tr>\n",
       "      <th>424</th>\n",
       "      <td>黑龙江省</td>\n",
       "      <td>绥化</td>\n",
       "      <td>22</td>\n",
       "      <td>0</td>\n",
       "      <td>0</td>\n",
       "      <td>2</td>\n",
       "      <td>2020-02-04 08:44:24.550</td>\n",
       "      <td>2020-02-04</td>\n",
       "    </tr>\n",
       "    <tr>\n",
       "      <th>428</th>\n",
       "      <td>黑龙江省</td>\n",
       "      <td>鸡西</td>\n",
       "      <td>9</td>\n",
       "      <td>0</td>\n",
       "      <td>0</td>\n",
       "      <td>0</td>\n",
       "      <td>2020-02-04 08:44:24.550</td>\n",
       "      <td>2020-02-04</td>\n",
       "    </tr>\n",
       "    <tr>\n",
       "      <th>433</th>\n",
       "      <td>黑龙江省</td>\n",
       "      <td>鹤岗</td>\n",
       "      <td>2</td>\n",
       "      <td>0</td>\n",
       "      <td>0</td>\n",
       "      <td>0</td>\n",
       "      <td>2020-02-04 08:44:24.550</td>\n",
       "      <td>2020-02-04</td>\n",
       "    </tr>\n",
       "    <tr>\n",
       "      <th>434</th>\n",
       "      <td>黑龙江省</td>\n",
       "      <td>黑河</td>\n",
       "      <td>1</td>\n",
       "      <td>0</td>\n",
       "      <td>0</td>\n",
       "      <td>0</td>\n",
       "      <td>2020-02-04 08:44:24.550</td>\n",
       "      <td>2020-02-04</td>\n",
       "    </tr>\n",
       "    <tr>\n",
       "      <th>431</th>\n",
       "      <td>黑龙江省</td>\n",
       "      <td>齐齐哈尔</td>\n",
       "      <td>6</td>\n",
       "      <td>0</td>\n",
       "      <td>0</td>\n",
       "      <td>0</td>\n",
       "      <td>2020-02-04 08:44:24.550</td>\n",
       "      <td>2020-02-04</td>\n",
       "    </tr>\n",
       "  </tbody>\n",
       "</table>\n",
       "<p>4007 rows × 8 columns</p>\n",
       "</div>"
      ],
      "text/plain": [
       "      provinceName cityName  confirmed  suspected  cured  dead  \\\n",
       "14202          云南省      丽江市          1          0      0     0   \n",
       "14200          云南省       昆明          3          0      0     0   \n",
       "14201          云南省    西双版纳州          1          0      0     0   \n",
       "14546       内蒙古自治区      满洲里          1          0      0     0   \n",
       "15074          北京市     不明地区          8          0      0     0   \n",
       "...            ...      ...        ...        ...    ...   ...   \n",
       "424           黑龙江省       绥化         22          0      0     2   \n",
       "428           黑龙江省       鸡西          9          0      0     0   \n",
       "433           黑龙江省       鹤岗          2          0      0     0   \n",
       "434           黑龙江省       黑河          1          0      0     0   \n",
       "431           黑龙江省     齐齐哈尔          6          0      0     0   \n",
       "\n",
       "                   updateTime  updateDate  \n",
       "14202 2020-01-24 23:55:14.973  2020-01-24  \n",
       "14200 2020-01-24 23:55:14.973  2020-01-24  \n",
       "14201 2020-01-24 23:55:14.973  2020-01-24  \n",
       "14546 2020-01-24 13:04:21.168  2020-01-24  \n",
       "15074 2020-01-24 07:37:33.464  2020-01-24  \n",
       "...                       ...         ...  \n",
       "424   2020-02-04 08:44:24.550  2020-02-04  \n",
       "428   2020-02-04 08:44:24.550  2020-02-04  \n",
       "433   2020-02-04 08:44:24.550  2020-02-04  \n",
       "434   2020-02-04 08:44:24.550  2020-02-04  \n",
       "431   2020-02-04 08:44:24.550  2020-02-04  \n",
       "\n",
       "[4007 rows x 8 columns]"
      ]
     },
     "execution_count": 7,
     "metadata": {},
     "output_type": "execute_result"
    }
   ],
   "source": [
    "daily_frm"
   ]
  },
  {
   "cell_type": "markdown",
   "metadata": {},
   "source": [
    "## 单个省份时间序列"
   ]
  },
  {
   "cell_type": "code",
   "execution_count": 8,
   "metadata": {},
   "outputs": [
    {
     "data": {
      "text/html": [
       "<div>\n",
       "<style scoped>\n",
       "    .dataframe tbody tr th:only-of-type {\n",
       "        vertical-align: middle;\n",
       "    }\n",
       "\n",
       "    .dataframe tbody tr th {\n",
       "        vertical-align: top;\n",
       "    }\n",
       "\n",
       "    .dataframe thead th {\n",
       "        text-align: right;\n",
       "    }\n",
       "</style>\n",
       "<table border=\"1\" class=\"dataframe\">\n",
       "  <thead>\n",
       "    <tr style=\"text-align: right;\">\n",
       "      <th></th>\n",
       "      <th>confirmed</th>\n",
       "      <th>suspected</th>\n",
       "      <th>cured</th>\n",
       "      <th>dead</th>\n",
       "    </tr>\n",
       "    <tr>\n",
       "      <th>updateDate</th>\n",
       "      <th></th>\n",
       "      <th></th>\n",
       "      <th></th>\n",
       "      <th></th>\n",
       "    </tr>\n",
       "  </thead>\n",
       "  <tbody>\n",
       "    <tr>\n",
       "      <th>2020-02-02</th>\n",
       "      <td>9074</td>\n",
       "      <td>0</td>\n",
       "      <td>232</td>\n",
       "      <td>294</td>\n",
       "    </tr>\n",
       "    <tr>\n",
       "      <th>2020-02-03</th>\n",
       "      <td>11177</td>\n",
       "      <td>0</td>\n",
       "      <td>300</td>\n",
       "      <td>350</td>\n",
       "    </tr>\n",
       "    <tr>\n",
       "      <th>2020-02-04</th>\n",
       "      <td>13522</td>\n",
       "      <td>0</td>\n",
       "      <td>398</td>\n",
       "      <td>414</td>\n",
       "    </tr>\n",
       "  </tbody>\n",
       "</table>\n",
       "</div>"
      ],
      "text/plain": [
       "            confirmed  suspected  cured  dead\n",
       "updateDate                                   \n",
       "2020-02-02       9074          0    232   294\n",
       "2020-02-03      11177          0    300   350\n",
       "2020-02-04      13522          0    398   414"
      ]
     },
     "execution_count": 8,
     "metadata": {},
     "output_type": "execute_result"
    }
   ],
   "source": [
    "province = '湖北省'   # 输入你所要的省份\n",
    "agg = daily_frm[daily_frm['provinceName'] == province].drop(columns=['provinceName']).groupby(['updateDate']).agg('sum')\n",
    "agg.tail(3)"
   ]
  },
  {
   "cell_type": "code",
   "execution_count": 9,
   "metadata": {},
   "outputs": [
    {
     "data": {
      "image/png": "[encoded data removed]",
      "text/plain": [
       "<Figure size 1008x432 with 1 Axes>"
      ]
     },
     "metadata": {
      "needs_background": "light"
     },
     "output_type": "display_data"
    }
   ],
   "source": [
    "ax = agg.plot(y=['confirmed', 'dead', 'cured'], style=['-*', '-*', '-.*'], grid=True, figsize=(14,6))\n",
    "ax.set_title(province, fontproperties=font_prop)\n",
    "plt.show()"
   ]
  },
  {
   "cell_type": "markdown",
   "metadata": {},
   "source": [
    "## 武汉 - 湖北（除武汉外） - 湖北以外 疫情对比"
   ]
  },
  {
   "cell_type": "code",
   "execution_count": 10,
   "metadata": {},
   "outputs": [],
   "source": [
    "wuhan = daily_frm[daily_frm['cityName'] == '武汉'].groupby('updateDate').agg('sum')\n",
    "hubei_exWuhan = daily_frm[(daily_frm['provinceName'] == '湖北省') & (daily_frm['cityName'] != '武汉')].groupby('updateDate').agg('sum')\n",
    "outside_hubei = daily_frm[daily_frm['provinceName'] != '湖北省'].groupby('updateDate').agg('sum')"
   ]
  },
  {
   "cell_type": "code",
   "execution_count": 11,
   "metadata": {},
   "outputs": [],
   "source": [
    "contrast_frm = pd.merge(wuhan.add_suffix('_Wuhan'), hubei_exWuhan.add_suffix('_Hubei_exWuhan'), 'left', on='updateDate')\n",
    "contrast_frm = pd.merge(contrast_frm, outside_hubei.add_suffix('_outsideHubei'), 'left', on='updateDate')"
   ]
  },
  {
   "cell_type": "code",
   "execution_count": 13,
   "metadata": {},
   "outputs": [
    {
     "data": {
      "text/plain": [
       "<matplotlib.axes._subplots.AxesSubplot at 0x27d99916b38>"
      ]
     },
     "execution_count": 13,
     "metadata": {},
     "output_type": "execute_result"
    },
    {
     "data": {
      "image/png": "[encoded data removed]",
      "text/plain": [
       "<Figure size 1080x432 with 1 Axes>"
      ]
     },
     "metadata": {
      "needs_background": "light"
     },
     "output_type": "display_data"
    }
   ],
   "source": [
    "contrast_col = 'dead'    # you can pick other columns such as 'dead', 'cured'\n",
    "contrast_frm.plot(y=[contrast_col + suffix for suffix in ('_Wuhan', '_Hubei_exWuhan', '_outsideHubei')], \n",
    "                       grid=True, figsize=(15, 6), style='-*')"
   ]
  },
  {
   "cell_type": "code",
   "execution_count": null,
   "metadata": {},
   "outputs": [],
   "source": []
  }
 ],
 "metadata": {
  "kernelspec": {
   "display_name": "Python 3",
   "language": "python",
   "name": "python3"
  },
  "language_info": {
   "codemirror_mode": {
    "name": "ipython",
    "version": 3
   },
   "file_extension": ".py",
   "mimetype": "text/x-python",
   "name": "python",
   "nbconvert_exporter": "python",
   "pygments_lexer": "ipython3",
   "version": "3.6.7"
  }
 },
 "nbformat": 4,
 "nbformat_minor": 4
}
